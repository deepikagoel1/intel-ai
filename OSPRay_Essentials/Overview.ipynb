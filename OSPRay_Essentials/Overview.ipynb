{
 "cells": [
  {
   "cell_type": "markdown",
   "metadata": {},
   "source": [
    "# Welcome\n",
    "Thank you for selecting this learning path for the Intel® oneAPI Rendering Toolkit (Render Kit). This learning path introduces you to the overviews of the oneAPI initiative, the Render Kit, and the Intel® OSPRay ray-tracing renderer.\n",
    "\n",
    "This learning path is the first of many that explain you how to use the Intel OSPRay and its API and help you to learn the technology. With this path, you will be able to create high-fidelity photorealistic images using the Intel OSPRay renderer.\n",
    "\n",
    "The learning path includes step-by-step modules that teach you about Intel OSPRay. It starts with creating scenes using simple geometries and goes on to enabling you to import more complicated geometries into your scene.\n",
    "\n",
    "In the future, additional modules will address advanced Intel OSPRay capabilities that will add richness to the models through lighting, materials, and textures.\n",
    "\n",
    "The learning path includes the following modules:\n",
    "\n",
    "## Module 0: [Introduction to the Jupyter* notebooks computation environment](release/00_Introduction_to_Jupyter/Introduction_to_Jupyter.ipynb)\n",
    "An introduction to the Jupyter notebooks computation environment where coding, compilation, and running of the programs will take place. This module explains how to use Jupyter Notebook which is used in all of the modules to edit and run coding excecises, this can be skipped if you are already familiar with using Jupyter Notebooks.\n",
    "\n",
    "## Module 1: [Introduction to oneAPI Programming Model and Intel® oneAPI Rendering Toolkit](release/01_RenderKit_Intro/RenderKit_Intro.ipynb)\n",
    "Learn about oneAPI initiative for heterogeneous computing and how the Intel® oneAPI Rendering Toolkit components fit into the paradigm.\n",
    "\n",
    "## Module 2: [Introduction to Intel® OSPRay](release/02_OSPRay_Intro/OSPRay_Intro.ipynb)\n",
    "An introduction to OSPRay, a high-performance ray-tracing renderer for scientific visualization and high-fidelity photorealistic rendering.\n",
    "\n",
    "## Module 3: [ospExamples - an Example of Intel® OSPRay Techniques and Procedural Scenes¶](release/03_ospExamples/ospExamples.ipynb)\n",
    "A compendium of basic OSPRay API techniques\n",
    "\n",
    "## Module 4: [Asset Loader](release/04_asset_load/04_asset_loader.ipynb)\n",
    "A minimal OBJ file loader to import complex models for OSPRay to render."
   ]
  },
  {
   "cell_type": "code",
   "execution_count": null,
   "metadata": {},
   "outputs": [],
   "source": []
  }
 ],
 "metadata": {
  "kernelspec": {
   "display_name": "Python 3.7 (Intel® oneAPI)",
   "language": "python",
   "name": "c009-intel_distribution_of_python_3_oneapi-beta05-python"
  },
  "language_info": {
   "codemirror_mode": {
    "name": "ipython",
    "version": 3
   },
   "file_extension": ".py",
   "mimetype": "text/x-python",
   "name": "python",
   "nbconvert_exporter": "python",
   "pygments_lexer": "ipython3",
   "version": "3.7.0"
  }
 },
 "nbformat": 4,
 "nbformat_minor": 4
}
